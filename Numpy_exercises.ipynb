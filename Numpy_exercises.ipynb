{
 "cells": [
  {
   "cell_type": "code",
   "execution_count": 10,
   "metadata": {},
   "outputs": [],
   "source": [
    "#Ex 1 Import the numpy package under the name np (★☆☆)\n",
    "\n",
    "import numpy as np\n"
   ]
  },
  {
   "cell_type": "code",
   "execution_count": 13,
   "metadata": {},
   "outputs": [
    {
     "data": {
      "text/plain": [
       "'1.19.2'"
      ]
     },
     "execution_count": 13,
     "metadata": {},
     "output_type": "execute_result"
    }
   ],
   "source": [
    "#Ex2 Print the numpy version and the configuration (★☆☆)\n",
    "\n",
    "np.version.version"
   ]
  },
  {
   "cell_type": "code",
   "execution_count": 14,
   "metadata": {},
   "outputs": [
    {
     "name": "stdout",
     "output_type": "stream",
     "text": [
      "[0. 0. 0. 0. 0. 0. 0. 0. 0. 0.]\n"
     ]
    }
   ],
   "source": [
    "#Ex 3 Create a null vector of size 10 (★☆☆)\n",
    "\n",
    "a=np.zeros(10)\n",
    "print(a)"
   ]
  },
  {
   "cell_type": "code",
   "execution_count": 15,
   "metadata": {},
   "outputs": [
    {
     "name": "stdout",
     "output_type": "stream",
     "text": [
      "[0. 0. 0. 0. 0. 2. 0. 0. 0. 0.]\n"
     ]
    }
   ],
   "source": [
    "\n",
    "\n",
    "a[5]=2\n",
    "print(a)"
   ]
  },
  {
   "cell_type": "code",
   "execution_count": 160,
   "metadata": {},
   "outputs": [
    {
     "name": "stdout",
     "output_type": "stream",
     "text": [
      "10\n",
      "8\n"
     ]
    }
   ],
   "source": [
    "#Ex 4 How to find the memory size of any array (★☆☆)\n",
    "\n",
    "print(\"%d\" %(a.size))\n",
    "\n",
    "print(\"%d\" %(a.itemsize))\n"
   ]
  },
  {
   "cell_type": "code",
   "execution_count": 24,
   "metadata": {},
   "outputs": [
    {
     "name": "stdout",
     "output_type": "stream",
     "text": [
      "add(x1, x2, /, out=None, *, where=True, casting='same_kind', order='K', dtype=None, subok=True[, signature, extobj])\n",
      "\n",
      "Add arguments element-wise.\n",
      "\n",
      "Parameters\n",
      "----------\n",
      "x1, x2 : array_like\n",
      "    The arrays to be added.\n",
      "    If ``x1.shape != x2.shape``, they must be broadcastable to a common\n",
      "    shape (which becomes the shape of the output).\n",
      "out : ndarray, None, or tuple of ndarray and None, optional\n",
      "    A location into which the result is stored. If provided, it must have\n",
      "    a shape that the inputs broadcast to. If not provided or None,\n",
      "    a freshly-allocated array is returned. A tuple (possible only as a\n",
      "    keyword argument) must have length equal to the number of outputs.\n",
      "where : array_like, optional\n",
      "    This condition is broadcast over the input. At locations where the\n",
      "    condition is True, the `out` array will be set to the ufunc result.\n",
      "    Elsewhere, the `out` array will retain its original value.\n",
      "    Note that if an uninitialized `out` array is created via the default\n",
      "    ``out=None``, locations within it where the condition is False will\n",
      "    remain uninitialized.\n",
      "**kwargs\n",
      "    For other keyword-only arguments, see the\n",
      "    :ref:`ufunc docs <ufuncs.kwargs>`.\n",
      "\n",
      "Returns\n",
      "-------\n",
      "add : ndarray or scalar\n",
      "    The sum of `x1` and `x2`, element-wise.\n",
      "    This is a scalar if both `x1` and `x2` are scalars.\n",
      "\n",
      "Notes\n",
      "-----\n",
      "Equivalent to `x1` + `x2` in terms of array broadcasting.\n",
      "\n",
      "Examples\n",
      "--------\n",
      ">>> np.add(1.0, 4.0)\n",
      "5.0\n",
      ">>> x1 = np.arange(9.0).reshape((3, 3))\n",
      ">>> x2 = np.arange(3.0)\n",
      ">>> np.add(x1, x2)\n",
      "array([[  0.,   2.,   4.],\n",
      "       [  3.,   5.,   7.],\n",
      "       [  6.,   8.,  10.]])\n",
      "None\n"
     ]
    }
   ],
   "source": [
    "#Ex 5  How to get the documentation of the numpy add function from the command line? (★☆☆)\n",
    "\n",
    "print(np.info(np.add))"
   ]
  },
  {
   "cell_type": "code",
   "execution_count": 80,
   "metadata": {},
   "outputs": [
    {
     "name": "stdout",
     "output_type": "stream",
     "text": [
      "[[nan]\n",
      " [nan]\n",
      " [nan]\n",
      " [nan]\n",
      " [nan]\n",
      " [ 1.]\n",
      " [nan]\n",
      " [nan]\n",
      " [nan]\n",
      " [nan]]\n"
     ]
    }
   ],
   "source": [
    "#Ex 6  Create a null vector of size 10 but the fifth value which is 1 (★☆☆)\n",
    "\n",
    "x=np.zeros((10,1))\n",
    "x[:]=np.nan\n",
    "x[5]=1\n",
    "print(x)"
   ]
  },
  {
   "cell_type": "code",
   "execution_count": 163,
   "metadata": {},
   "outputs": [
    {
     "name": "stdout",
     "output_type": "stream",
     "text": [
      "[10 11 12 13 14 15 16 17 18 19 20 21 22 23 24 25 26 27 28 29 30 31 32 33\n",
      " 34 35 36 37 38 39 40 41 42 43 44 45 46 47 48]\n"
     ]
    }
   ],
   "source": [
    "#Ex 7 Create a vector with values ranging from 10 to 49 (★☆☆)\n",
    "\n",
    "y=np.arange(10,49)\n",
    "print(y)"
   ]
  },
  {
   "cell_type": "code",
   "execution_count": 164,
   "metadata": {},
   "outputs": [
    {
     "name": "stdout",
     "output_type": "stream",
     "text": [
      "[48 47 46 45 44 43 42 41 40 39 38 37 36 35 34 33 32 31 30 29 28 27 26 25\n",
      " 24 23 22 21 20 19 18 17 16 15 14 13 12 11 10]\n"
     ]
    }
   ],
   "source": [
    "#Ex 8  Reverse a vector (first element becomes last) (★☆☆)\n",
    "\n",
    "w=y[::-1]\n",
    "print(w)"
   ]
  },
  {
   "cell_type": "code",
   "execution_count": 35,
   "metadata": {},
   "outputs": [
    {
     "name": "stdout",
     "output_type": "stream",
     "text": [
      "[[0 1 2]\n",
      " [3 4 5]\n",
      " [6 7 8]]\n"
     ]
    }
   ],
   "source": [
    "#Ex 9 Create a 3x3 matrix with values ranging from 0 to 8 (★☆☆)\n",
    "\n",
    "z=np.arange(0,9)\n",
    "z=z.reshape(3,3)\n",
    "print(z)"
   ]
  },
  {
   "cell_type": "code",
   "execution_count": 38,
   "metadata": {},
   "outputs": [
    {
     "name": "stdout",
     "output_type": "stream",
     "text": [
      "(array([0, 1, 4], dtype=int64),)\n"
     ]
    }
   ],
   "source": [
    "#Ex 10 Find indices of non-zero elements from [1,2,0,0,4,0] (★☆☆)\n",
    "\n",
    "a=[1,2,0,0,4,0]\n",
    "a=np.nonzero(a)\n",
    "print(a)"
   ]
  },
  {
   "cell_type": "code",
   "execution_count": 40,
   "metadata": {},
   "outputs": [
    {
     "name": "stdout",
     "output_type": "stream",
     "text": [
      "[[1. 0. 0.]\n",
      " [0. 1. 0.]\n",
      " [0. 0. 1.]]\n"
     ]
    }
   ],
   "source": [
    "#Ex 11 Create a 3x3 identity matrix (★☆☆)\n",
    "\n",
    "a=np.eye(3,3)\n",
    "print(a)"
   ]
  },
  {
   "cell_type": "code",
   "execution_count": 50,
   "metadata": {},
   "outputs": [
    {
     "name": "stdout",
     "output_type": "stream",
     "text": [
      "array [[[0.19969284 0.05230116 0.20361244]\n",
      "  [0.84000592 0.56144947 0.15925622]\n",
      "  [0.95246209 0.56209634 0.13036285]]\n",
      "\n",
      " [[0.51380617 0.01680088 0.78671391]\n",
      "  [0.78497956 0.77705406 0.98658203]\n",
      "  [0.09417816 0.75678205 0.53791549]]\n",
      "\n",
      " [[0.86060857 0.75454577 0.22787523]\n",
      "  [0.76857276 0.17392049 0.12054819]\n",
      "  [0.63904778 0.0848775  0.13592403]]]\n"
     ]
    }
   ],
   "source": [
    "#Ex 12 Create a 3x3x3 array with random values (★☆☆)\n",
    "\n",
    "a=np.random.random((3,3,3))\n",
    "print(\"array\",a)"
   ]
  },
  {
   "cell_type": "code",
   "execution_count": 46,
   "metadata": {},
   "outputs": [
    {
     "name": "stdout",
     "output_type": "stream",
     "text": [
      "0.9972333783329769 0.01804091666766794\n"
     ]
    }
   ],
   "source": [
    "#Ex 13 Create a 10x10 array with random values and find the minimum and maximum values (★☆☆)\n",
    "\n",
    "a=np.random.random((10,10))\n",
    "max=a.max()\n",
    "min=a.min()\n",
    "print(max, min)"
   ]
  },
  {
   "cell_type": "code",
   "execution_count": 49,
   "metadata": {},
   "outputs": [
    {
     "name": "stdout",
     "output_type": "stream",
     "text": [
      "0.5967507761529784\n"
     ]
    }
   ],
   "source": [
    "#Ex 14 Create a random vector of size 30 and find the mean value (★☆☆)\n",
    "a=np.random.random(30)\n",
    "#print(a)\n",
    "mean_value= a.mean()\n",
    "print(mean_value)"
   ]
  },
  {
   "cell_type": "code",
   "execution_count": 58,
   "metadata": {},
   "outputs": [
    {
     "name": "stdout",
     "output_type": "stream",
     "text": [
      "[[1. 1. 1. 1. 1.]\n",
      " [1. 1. 1. 1. 1.]\n",
      " [1. 1. 1. 1. 1.]\n",
      " [1. 1. 1. 1. 1.]\n",
      " [1. 1. 1. 1. 1.]]\n",
      "[[1. 1. 1. 1. 1.]\n",
      " [1. 0. 0. 0. 1.]\n",
      " [1. 0. 0. 0. 1.]\n",
      " [1. 0. 0. 0. 1.]\n",
      " [1. 1. 1. 1. 1.]]\n"
     ]
    }
   ],
   "source": [
    "#Ex 15. Create a 2d array with 1 on the border and 0 inside\n",
    "\n",
    "x = np.ones((5,5))\n",
    "print(x)\n",
    "x[1:-1,1:-1] = 0\n",
    "print(x)\n",
    "\n"
   ]
  },
  {
   "cell_type": "code",
   "execution_count": 82,
   "metadata": {},
   "outputs": [
    {
     "data": {
      "text/plain": [
       "array([[0., 0., 0., 0., 0.],\n",
       "       [0., 1., 1., 1., 0.],\n",
       "       [0., 1., 1., 1., 0.],\n",
       "       [0., 1., 1., 1., 0.],\n",
       "       [0., 0., 0., 0., 0.]])"
      ]
     },
     "execution_count": 82,
     "metadata": {},
     "output_type": "execute_result"
    }
   ],
   "source": [
    "#Ex 16 How to add a border (filled with 0's) around an existing array? (★☆☆)\n",
    "\n",
    "x = np.ones((3,3))\n",
    "x = np.pad(x, pad_width=1, mode='constant', constant_values=0)\n",
    "x"
   ]
  },
  {
   "cell_type": "code",
   "execution_count": 79,
   "metadata": {},
   "outputs": [
    {
     "data": {
      "text/plain": [
       "False"
      ]
     },
     "execution_count": 79,
     "metadata": {},
     "output_type": "execute_result"
    }
   ],
   "source": [
    "#Ex 17 What is the result of the following expression? (★☆☆)\n",
    "\n",
    "print(0 * np.nan)\n",
    "print(np.nan == np.nan)\n",
    "print(np.inf > np.nan)\n",
    "print(np.nan - np.nan)\n",
    "print(np.nan in set([np.nan]))\n",
    "print(0.3 == 3 * 0.1)"
   ]
  },
  {
   "cell_type": "code",
   "execution_count": null,
   "metadata": {},
   "outputs": [],
   "source": []
  },
  {
   "cell_type": "code",
   "execution_count": 102,
   "metadata": {},
   "outputs": [
    {
     "data": {
      "text/plain": [
       "array([[0, 0, 0, 0, 0],\n",
       "       [1, 0, 0, 0, 0],\n",
       "       [0, 2, 0, 0, 0],\n",
       "       [0, 0, 3, 0, 0],\n",
       "       [0, 0, 0, 4, 0]])"
      ]
     },
     "execution_count": 102,
     "metadata": {},
     "output_type": "execute_result"
    }
   ],
   "source": [
    "#Ex 18 Create a 5x5 matrix with values 1,2,3,4 just below the diagonal (★☆☆)\n",
    "\n",
    "#i=np.zeros(5)\n",
    "m=[1,2,3,4]\n",
    "j=np.diag(m, k=-1)\n",
    "j"
   ]
  },
  {
   "cell_type": "code",
   "execution_count": 165,
   "metadata": {},
   "outputs": [
    {
     "name": "stdout",
     "output_type": "stream",
     "text": [
      "[[0 1 0 1 0 1 0 1]\n",
      " [1 1 1 1 1 1 1 1]\n",
      " [0 1 0 1 0 1 0 1]\n",
      " [1 1 1 1 1 1 1 1]\n",
      " [0 1 0 1 0 1 0 1]\n",
      " [1 1 1 1 1 1 1 1]\n",
      " [0 1 0 1 0 1 0 1]\n",
      " [1 1 1 1 1 1 1 1]]\n"
     ]
    }
   ],
   "source": [
    "#Ex 19 Create a 8x8 matrix and fill it with a checkerboard pattern (★☆☆)\n",
    "\n",
    "a = np.zeros((8,8), dtype=int)\n",
    "a[1::2, ::1]= 1\n",
    "a[::1, 1::2] = 1\n",
    "print (a)\n",
    "\n"
   ]
  },
  {
   "cell_type": "code",
   "execution_count": 115,
   "metadata": {},
   "outputs": [
    {
     "name": "stdout",
     "output_type": "stream",
     "text": [
      "(1, 5, 3)\n"
     ]
    }
   ],
   "source": [
    "# Ex 20. Consider a (6,7,8) shape array, what is the index (x,y,z) of the 100th element?\n",
    "\n",
    "p=np.random.random((6,7,8))\n",
    "#print(p)\n",
    "\n",
    "print (np.unravel_index(99, (6,7,8)))"
   ]
  },
  {
   "cell_type": "code",
   "execution_count": 122,
   "metadata": {},
   "outputs": [
    {
     "name": "stdout",
     "output_type": "stream",
     "text": [
      "[[0 1]\n",
      " [1 0]]\n"
     ]
    },
    {
     "data": {
      "text/plain": [
       "array([[0, 1, 0, 1, 0, 1, 0, 1],\n",
       "       [1, 0, 1, 0, 1, 0, 1, 0],\n",
       "       [0, 1, 0, 1, 0, 1, 0, 1],\n",
       "       [1, 0, 1, 0, 1, 0, 1, 0],\n",
       "       [0, 1, 0, 1, 0, 1, 0, 1],\n",
       "       [1, 0, 1, 0, 1, 0, 1, 0],\n",
       "       [0, 1, 0, 1, 0, 1, 0, 1],\n",
       "       [1, 0, 1, 0, 1, 0, 1, 0]])"
      ]
     },
     "execution_count": 122,
     "metadata": {},
     "output_type": "execute_result"
    }
   ],
   "source": [
    "# Ex 21. Create a checkerboard 8x8 matrix using the tile function (★☆☆)\n",
    "\n",
    "array= np.array([[0,1], [1,0]])\n",
    "\n",
    "print(array)\n",
    "Z = np.tile(array,(4,4))\n",
    "Z"
   ]
  },
  {
   "cell_type": "code",
   "execution_count": 129,
   "metadata": {},
   "outputs": [
    {
     "name": "stdout",
     "output_type": "stream",
     "text": [
      "[[-0.50168219  0.72826628  1.40851863 -0.54749294  1.12317633]\n",
      " [ 1.58555954 -0.47225103  0.14075278  1.21597941  1.16720067]\n",
      " [-1.53920521 -0.07139878 -0.56937661 -0.99207527 -1.61825973]\n",
      " [-0.61250202  1.78852057  0.02561804 -0.16565916  0.50732657]\n",
      " [-0.80007463 -1.53917574 -0.55078122 -0.73860645  1.02762212]]\n"
     ]
    }
   ],
   "source": [
    "#Ex. 22 Normalize a 5x5 random matrix (★☆☆)\n",
    "\n",
    "d=np.random.random((5,5))\n",
    "std=np.std(d)\n",
    "mean_=np.mean(d)\n",
    "w=(d-mean_)/std\n",
    "print(w)"
   ]
  },
  {
   "cell_type": "code",
   "execution_count": 136,
   "metadata": {},
   "outputs": [
    {
     "name": "stdout",
     "output_type": "stream",
     "text": [
      "[[3. 3.]\n",
      " [3. 3.]\n",
      " [3. 3.]\n",
      " [3. 3.]\n",
      " [3. 3.]]\n"
     ]
    }
   ],
   "source": [
    "#Ex 24 Multiply a 5x3 matrix by a 3x2 matrix (real matrix product) (★☆☆)\n",
    "\n",
    "a= np.dot(np.ones((5,3)), np.ones((3,2)))\n",
    "print(a)"
   ]
  },
  {
   "cell_type": "code",
   "execution_count": null,
   "metadata": {},
   "outputs": [],
   "source": []
  },
  {
   "cell_type": "code",
   "execution_count": null,
   "metadata": {},
   "outputs": [],
   "source": []
  }
 ],
 "metadata": {
  "kernelspec": {
   "display_name": "Python 3",
   "language": "python",
   "name": "python3"
  },
  "language_info": {
   "codemirror_mode": {
    "name": "ipython",
    "version": 3
   },
   "file_extension": ".py",
   "mimetype": "text/x-python",
   "name": "python",
   "nbconvert_exporter": "python",
   "pygments_lexer": "ipython3",
   "version": "3.8.5"
  }
 },
 "nbformat": 4,
 "nbformat_minor": 4
}
